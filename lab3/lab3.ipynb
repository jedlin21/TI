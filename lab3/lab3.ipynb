{
 "cells": [
  {
   "cell_type": "code",
   "execution_count": 1,
   "metadata": {},
   "outputs": [],
   "source": [
    "import numpy as np\n",
    "import matplotlib.pyplot as plt\n",
    "from bitarray import bitarray\n",
    "import json"
   ]
  },
  {
   "cell_type": "markdown",
   "metadata": {},
   "source": [
    "# 1"
   ]
  },
  {
   "cell_type": "code",
   "execution_count": 2,
   "metadata": {},
   "outputs": [],
   "source": [
    "letters = \"abcdefghijklmnoprstuwxyqvz 1234567890\""
   ]
  },
  {
   "cell_type": "markdown",
   "metadata": {},
   "source": [
    "# Prepare Code / Decode"
   ]
  },
  {
   "cell_type": "code",
   "execution_count": 180,
   "metadata": {},
   "outputs": [],
   "source": [
    "encode = {}\n",
    "decode = {}\n",
    "binaryCode = \"0b1000001\"\n",
    "binary1 = \"0b1\"\n",
    "for letter in letters:\n",
    "    binaryCode = binaryCode.replace('0b1', '0b')\n",
    "    decode[binaryCode[2:]] = letter\n",
    "    encode[letter] = binaryCode[2:]\n",
    "    binaryCode = binaryCode.replace('0b', '0b1')\n",
    "    binaryCode = int(binaryCode,2) + int(binary1, 2)\n",
    "    binaryCode = str(bin(binaryCode))"
   ]
  },
  {
   "cell_type": "code",
   "execution_count": 181,
   "metadata": {},
   "outputs": [
    {
     "data": {
      "text/plain": [
       "{'a': '000001',\n",
       " 'b': '000010',\n",
       " 'c': '000011',\n",
       " 'd': '000100',\n",
       " 'e': '000101',\n",
       " 'f': '000110',\n",
       " 'g': '000111',\n",
       " 'h': '001000',\n",
       " 'i': '001001',\n",
       " 'j': '001010',\n",
       " 'k': '001011',\n",
       " 'l': '001100',\n",
       " 'm': '001101',\n",
       " 'n': '001110',\n",
       " 'o': '001111',\n",
       " 'p': '010000',\n",
       " 'r': '010001',\n",
       " 's': '010010',\n",
       " 't': '010011',\n",
       " 'u': '010100',\n",
       " 'w': '010101',\n",
       " 'x': '010110',\n",
       " 'y': '010111',\n",
       " 'q': '011000',\n",
       " 'v': '011001',\n",
       " 'z': '011010',\n",
       " ' ': '011011',\n",
       " '1': '011100',\n",
       " '2': '011101',\n",
       " '3': '011110',\n",
       " '4': '011111',\n",
       " '5': '100000',\n",
       " '6': '100001',\n",
       " '7': '100010',\n",
       " '8': '100011',\n",
       " '9': '100100',\n",
       " '0': '100101'}"
      ]
     },
     "execution_count": 181,
     "metadata": {},
     "output_type": "execute_result"
    }
   ],
   "source": [
    "encode"
   ]
  },
  {
   "cell_type": "markdown",
   "metadata": {},
   "source": [
    "# Encode"
   ]
  },
  {
   "cell_type": "code",
   "execution_count": 301,
   "metadata": {},
   "outputs": [
    {
     "name": "stdout",
     "output_type": "stream",
     "text": [
      "011111000001001100000001011011001101000001011011001011001111010011000001011011000001011011001011001111010011011011001101000001011011000001001100000101100001100100100001100100011011001110001111011011010011001111011011001110001001000101011010001100000101011011001101001111010001000100001111\n"
     ]
    }
   ],
   "source": [
    "code = \"\"\n",
    "text = \"\"\n",
    "for letter in \"4ala ma kota a kot ma ale6969 no to niezle mordo\":\n",
    "    code += encode[letter]\n",
    "print(code)"
   ]
  },
  {
   "cell_type": "markdown",
   "metadata": {},
   "source": [
    "# Decode"
   ]
  },
  {
   "cell_type": "code",
   "execution_count": 309,
   "metadata": {},
   "outputs": [
    {
     "name": "stdout",
     "output_type": "stream",
     "text": [
      "4ala ma kota a kot ma ale6969 no to niezle mordo\n"
     ]
    }
   ],
   "source": [
    "text = \"\"\n",
    "for i in range(int(len(code) / 6)):\n",
    "    dec = decode[code[i*6: (i+1)*6]]\n",
    "    if dec != '000000':\n",
    "        text += dec\n",
    "print(text)"
   ]
  },
  {
   "cell_type": "markdown",
   "metadata": {},
   "source": [
    "# save"
   ]
  },
  {
   "cell_type": "code",
   "execution_count": 303,
   "metadata": {},
   "outputs": [],
   "source": [
    "encoded_path = \"./encoded.txt\"\n",
    "code_path = \"./code.json\""
   ]
  },
  {
   "cell_type": "code",
   "execution_count": 304,
   "metadata": {},
   "outputs": [],
   "source": [
    "with open(code_path, 'w') as f:\n",
    "    json.dump(decode, f, indent=4)"
   ]
  },
  {
   "cell_type": "code",
   "execution_count": 305,
   "metadata": {},
   "outputs": [],
   "source": [
    "with open(encoded_path, 'wb') as f:    \n",
    "    x = bitarray(code)\n",
    "    x.tofile(f)\n",
    "    #f.write(x)"
   ]
  },
  {
   "cell_type": "markdown",
   "metadata": {},
   "source": [
    "# Read"
   ]
  },
  {
   "cell_type": "code",
   "execution_count": 306,
   "metadata": {},
   "outputs": [
    {
     "name": "stdout",
     "output_type": "stream",
     "text": [
      "{'000001': 'a', '000010': 'b', '000011': 'c', '000100': 'd', '000101': 'e', '000110': 'f', '000111': 'g', '001000': 'h', '001001': 'i', '001010': 'j', '001011': 'k', '001100': 'l', '001101': 'm', '001110': 'n', '001111': 'o', '010000': 'p', '010001': 'r', '010010': 's', '010011': 't', '010100': 'u', '010101': 'w', '010110': 'x', '010111': 'y', '011000': 'q', '011001': 'v', '011010': 'z', '011011': ' ', '011100': '1', '011101': '2', '011110': '3', '011111': '4', '100000': '5', '100001': '6', '100010': '7', '100011': '8', '100100': '9', '100101': '0'}\n"
     ]
    }
   ],
   "source": [
    "decode = {}\n",
    "with open(code_path) as f:\n",
    "    decode = {**decode, **json.load(f)}\n",
    "print(decode)"
   ]
  },
  {
   "cell_type": "code",
   "execution_count": 307,
   "metadata": {},
   "outputs": [],
   "source": [
    "#with open(\"norm_wiki_sample.txt\", \"r\") as f:\n",
    "a = bitarray()\n",
    "with open(encoded_path, \"rb\") as f:\n",
    "    a.fromfile(f)\n",
    "    code = a.to01()\n",
    "#code = bitarray(code)\n",
    "#code = code[8:]"
   ]
  },
  {
   "cell_type": "markdown",
   "metadata": {},
   "source": [
    "# Zad 1"
   ]
  },
  {
   "cell_type": "code",
   "execution_count": 14,
   "metadata": {},
   "outputs": [],
   "source": [
    "class FLCoding():\n",
    "    def __init__(self, encoded_path = \"./encoded.txt\", code_path = \"./code.json\"):\n",
    "        letters = \"abcdefghijklmnoprstuwxyqvz 1234567890\"\n",
    "        self.encodeDict = {}\n",
    "        self.decodeDict = {}\n",
    "        binaryCode = \"0b1000001\"\n",
    "        binary1 = \"0b1\"\n",
    "        for letter in letters:\n",
    "            binaryCode = binaryCode.replace('0b1', '0b')\n",
    "            self.decodeDict[binaryCode[2:]] = letter\n",
    "            self.encodeDict[letter] = binaryCode[2:]\n",
    "            binaryCode = binaryCode.replace('0b', '0b1')\n",
    "            binaryCode = int(binaryCode,2)  + int(binary1, 2)\n",
    "            binaryCode = str(bin(binaryCode))\n",
    "        \n",
    "        self.code = \"\"\n",
    "        self.sentence = \"\"\n",
    "        self.encoded_path = encoded_path\n",
    "        self.code_path = code_path\n",
    "    \n",
    "    def create(self):\n",
    "        pass\n",
    "    \n",
    "    def encode(self, sentence=\"ala ma kota\"):\n",
    "        self.groundTruth = sentence\n",
    "        self.code = \"\"\n",
    "        for letter in sentence:\n",
    "            self.code += self.encodeDict[letter]\n",
    "        return self.code\n",
    "    \n",
    "    def decode(self):\n",
    "        self.sentence = \"\"\n",
    "        for i in range(int(len(self.code) / 6)):\n",
    "            dec = self.decodeDict[self.code[i*6: (i+1)*6]]\n",
    "            if dec != '000000':\n",
    "                self.sentence += dec\n",
    "        return self.sentence\n",
    "    \n",
    "    def save(self):\n",
    "        with open(self.code_path, 'w') as f:\n",
    "            json.dump(self.decodeDict, f, indent=4)\n",
    "        \n",
    "        with open(self.encoded_path, 'wb') as f:    \n",
    "            x = bitarray(self.code)\n",
    "            x.tofile(f)\n",
    "\n",
    "    \n",
    "    def load(self):\n",
    "        self.decodeDict = {}\n",
    "        with open(self.code_path) as f:\n",
    "            self.decodeDict = {**self.decodeDict, **json.load(f)}\n",
    "        \n",
    "        a = bitarray()\n",
    "        with open(self.encoded_path, \"rb\") as f:\n",
    "            a.fromfile(f)\n",
    "            self.code = a.to01()\n",
    "    \n",
    "    def checkCorrectness(self):\n",
    "        if self.groundTruth == self.sentence:\n",
    "            print(\"Correct\")\n",
    "        else:\n",
    "            print(\"Wrong decoded sentence\")"
   ]
  },
  {
   "cell_type": "code",
   "execution_count": 31,
   "metadata": {},
   "outputs": [],
   "source": [
    "fLCoding = FLCoding()"
   ]
  },
  {
   "cell_type": "code",
   "execution_count": 16,
   "metadata": {},
   "outputs": [
    {
     "data": {
      "text/plain": [
       "'010010001001000001000100010010000100010010000100010010000100000100010010'"
      ]
     },
     "execution_count": 16,
     "metadata": {},
     "output_type": "execute_result"
    }
   ],
   "source": [
    "fLCoding.encode(\"siadsdsdsdds\")"
   ]
  },
  {
   "cell_type": "code",
   "execution_count": 17,
   "metadata": {},
   "outputs": [
    {
     "data": {
      "text/plain": [
       "'siadsdsdsdds'"
      ]
     },
     "execution_count": 17,
     "metadata": {},
     "output_type": "execute_result"
    }
   ],
   "source": [
    "fLCoding.decode()"
   ]
  },
  {
   "cell_type": "code",
   "execution_count": 18,
   "metadata": {},
   "outputs": [
    {
     "name": "stdout",
     "output_type": "stream",
     "text": [
      "Correct\n"
     ]
    }
   ],
   "source": [
    "fLCoding.checkCorrectness()"
   ]
  },
  {
   "cell_type": "code",
   "execution_count": 19,
   "metadata": {},
   "outputs": [],
   "source": [
    "fLCoding.save()"
   ]
  },
  {
   "cell_type": "code",
   "execution_count": 33,
   "metadata": {},
   "outputs": [],
   "source": [
    "fLCoding.load()"
   ]
  },
  {
   "cell_type": "code",
   "execution_count": 38,
   "metadata": {},
   "outputs": [
    {
     "data": {
      "text/plain": [
       "'siadsdsdsdds'"
      ]
     },
     "execution_count": 38,
     "metadata": {},
     "output_type": "execute_result"
    }
   ],
   "source": [
    "fLCoding.decode()"
   ]
  },
  {
   "cell_type": "code",
   "execution_count": 40,
   "metadata": {},
   "outputs": [
    {
     "data": {
      "text/plain": [
       "'siadsdsdsdds'"
      ]
     },
     "execution_count": 40,
     "metadata": {},
     "output_type": "execute_result"
    }
   ],
   "source": [
    "fLCoding.sentence"
   ]
  },
  {
   "cell_type": "code",
   "execution_count": 39,
   "metadata": {},
   "outputs": [
    {
     "data": {
      "text/plain": [
       "'010010001001000001000100010010000100010010000100010010000100000100010010'"
      ]
     },
     "execution_count": 39,
     "metadata": {},
     "output_type": "execute_result"
    }
   ],
   "source": [
    "fLCoding.code"
   ]
  },
  {
   "cell_type": "markdown",
   "metadata": {},
   "source": [
    "# zad 2"
   ]
  },
  {
   "cell_type": "code",
   "execution_count": 3,
   "metadata": {},
   "outputs": [],
   "source": [
    "with open(\"norm_wiki_sample.txt\", \"r\") as f:\n",
    "    text = f.read()\n",
    "\n",
    "data = {}\n",
    "for letter in text:\n",
    "    try:\n",
    "        data[letter] +=1\n",
    "    except:\n",
    "        data[letter] = 1\n",
    "data = {k: [v] for k, v in sorted(data.items(), key=lambda item: item[1], reverse=False)} # sort\n",
    "sum = np.sum(list(data.values()))\n",
    "data = {k: [v[0]/sum, None] for k, v in data.items()}"
   ]
  },
  {
   "cell_type": "code",
   "execution_count": 4,
   "metadata": {},
   "outputs": [],
   "source": [
    "class Node:\n",
    "    def __init__(self, val,l,r):\n",
    "        self.l = l\n",
    "        self.r = r\n",
    "        self.v = val"
   ]
  },
  {
   "cell_type": "code",
   "execution_count": 5,
   "metadata": {},
   "outputs": [],
   "source": [
    "class Tree:\n",
    "    def __init__(self):\n",
    "        self.root = None\n",
    "        \n",
    "    def create(self, data):\n",
    "        while len(data) > 1:\n",
    "            y = min(data, key=lambda z: data[z][0])\n",
    "            y = [y,data.pop(y)]\n",
    "\n",
    "            x = min(data, key=lambda z: data[z][0])\n",
    "            x = [x,data.pop(x)]\n",
    "\n",
    "            xy = [ x[0] + y[0], x[1][0] + y[1][0] ]\n",
    "            \n",
    "            #print(x[0], y[0])\n",
    "            if x[1][1] is None and y[1][1] is None:\n",
    "                #print(\"both None\")\n",
    "                node = Node(xy[0], x[0], y[0])\n",
    "            elif x[1][1] is not None and y[1][1] is None:\n",
    "                #print(\"y None\")\n",
    "                node = Node(xy[0], x[1][1], y[0])\n",
    "            elif x[1][1] is None and y[1][1] is not None:\n",
    "                #print(\"x None\")\n",
    "                node = Node(xy[0], x[0], y[1][1])\n",
    "            else:\n",
    "                #print(\"bith not None\")\n",
    "                node = Node(xy[0], x[1][1], y[1][1])\n",
    "\n",
    "            data[xy[0]] = [xy[1], node]\n",
    "            data = {k: v for k, v in sorted(data.items(), key=lambda item: item[1][0], reverse=False)} # sort\n",
    "        \n",
    "        x = min(data, key=lambda x: data[x][0])\n",
    "        x = [x,data.pop(x)]\n",
    "        self.root = x[1][1]\n",
    "\n",
    "    def getRoot(self):\n",
    "        return self.root\n",
    "\n",
    "    def find(self, val):\n",
    "        if self.root is not None:\n",
    "            return self._find(val, self.root)\n",
    "        else:\n",
    "            return None\n",
    "\n",
    "    def _find(self, val, node):\n",
    "        if val == node.v:\n",
    "            return node\n",
    "        elif (val < node.v and node.l is not None):\n",
    "            self._find(val, node.l)\n",
    "        elif (val > node.v and node.r is not None):\n",
    "            self._find(val, node.r)\n",
    "\n",
    "    def printTree(self):\n",
    "        if self.root is not None:\n",
    "            self._printTree(self.root, \"\")\n",
    "\n",
    "    def _printTree(self, node, bit):\n",
    "        if node is not None:\n",
    "            \n",
    "            try:\n",
    "                self._printTree(node.l, bit + \"0\")\n",
    "            except:\n",
    "                print(\"elem: \", node.l, \"  bit:\", bit+\"0\")\n",
    "                \n",
    "            try:\n",
    "                self._printTree(node.r, bit + \"1\")\n",
    "            except:\n",
    "                print(\"elem: \", node.r, \"  bit:\", bit+\"1\")\n",
    "    \n",
    "    def createCode(self):\n",
    "        self.encodeDict = {}\n",
    "        if self.root is not None:\n",
    "            self._createCode(self.root, \"\")\n",
    "        return self.encodeDict\n",
    "    \n",
    "    def _createCode(self, node, bit):\n",
    "        if node is not None:\n",
    "            \n",
    "            try:\n",
    "                self._createCode(node.l, bit + \"0\")\n",
    "            except:\n",
    "                #print(\"elem: \", node.l, \"  bit:\", bit+\"0\")\n",
    "                self.encodeDict[node.l] = bit+\"0\"\n",
    "                \n",
    "            try:\n",
    "                self._createCode(node.r, bit + \"1\")\n",
    "            except:\n",
    "                #print(\"elem: \", node.r, \"  bit:\", bit+\"1\")\n",
    "                self.encodeDict[node.r] = bit+\"1\"\n",
    "                \n",
    "            "
   ]
  },
  {
   "cell_type": "code",
   "execution_count": 312,
   "metadata": {},
   "outputs": [],
   "source": [
    "t = Tree()"
   ]
  },
  {
   "cell_type": "code",
   "execution_count": 313,
   "metadata": {},
   "outputs": [],
   "source": [
    "data = {}\n",
    "for letter in \"eddcccbbbbaaaaaddddddddddddd\":\n",
    "    try:\n",
    "        data[letter] +=1\n",
    "    except:\n",
    "        data[letter] = 1\n",
    "data = {k: [v] for k, v in sorted(data.items(), key=lambda item: item[1], reverse=False)} # sort\n",
    "sum = np.sum(list(data.values()))\n",
    "data = {k: [v[0]/sum, None] for k, v in data.items()}"
   ]
  },
  {
   "cell_type": "code",
   "execution_count": 314,
   "metadata": {},
   "outputs": [
    {
     "name": "stdout",
     "output_type": "stream",
     "text": [
      "c e\n",
      "both None\n",
      "ce b\n",
      "y None\n",
      "ceb a\n",
      "y None\n",
      "d ceba\n",
      "x None\n"
     ]
    }
   ],
   "source": [
    "t.create(data)"
   ]
  },
  {
   "cell_type": "code",
   "execution_count": 315,
   "metadata": {},
   "outputs": [
    {
     "name": "stdout",
     "output_type": "stream",
     "text": [
      "elem:  d   bit: 0\n",
      "elem:  c   bit: 1000\n",
      "elem:  e   bit: 1001\n",
      "elem:  b   bit: 101\n",
      "elem:  a   bit: 11\n"
     ]
    }
   ],
   "source": [
    "t.printTree()"
   ]
  },
  {
   "cell_type": "code",
   "execution_count": 316,
   "metadata": {},
   "outputs": [
    {
     "data": {
      "text/plain": [
       "{'d': '0', 'c': '1000', 'e': '1001', 'b': '101', 'a': '11'}"
      ]
     },
     "execution_count": 316,
     "metadata": {},
     "output_type": "execute_result"
    }
   ],
   "source": [
    "t.createCode()"
   ]
  },
  {
   "cell_type": "code",
   "execution_count": 186,
   "metadata": {},
   "outputs": [],
   "source": [
    "class  HuffmannaCoding():\n",
    "    def __init__(self, encoded_path = \"./encoded.txt\", code_path = \"./code.json\"):\n",
    "        letters = \"abcdefghijklmnoprstuwxyqvz 1234567890\"\n",
    "        self.encodeDict = {}\n",
    "        self.decodeDict = {}\n",
    "        self.code = \"\"\n",
    "        self.sentence = \"\"\n",
    "        self.encoded_path = encoded_path\n",
    "        self.code_path = code_path\n",
    "    \n",
    "    def create_fromFile(self, file=\"norm_wiki_sample.txt\"):\n",
    "        with open(file, \"r\") as f:\n",
    "            self.text = f.read()\n",
    "\n",
    "        data = {}\n",
    "        for letter in self.text:\n",
    "            try:\n",
    "                data[letter] +=1\n",
    "            except:\n",
    "                data[letter] = 1\n",
    "        data = {k: [v] for k, v in sorted(data.items(), key=lambda item: item[1], reverse=False)} # sort\n",
    "        sum = np.sum(list(data.values()))\n",
    "        data = {k: [v[0]/sum, None] for k, v in data.items()}\n",
    "        \n",
    "        t = Tree()\n",
    "        t.create(data)\n",
    "        self.encodeDict = t.createCode()\n",
    "        \n",
    "        self.decodeDict = {value:key for (key,value) in self.encodeDict.items()}\n",
    "        \n",
    "    def create_fromText(self, text=\"norm_wiki_sample.txt\"):\n",
    "        self.text = text\n",
    "\n",
    "        data = {}\n",
    "        for letter in self.text:\n",
    "            try:\n",
    "                data[letter] +=1\n",
    "            except:\n",
    "                data[letter] = 1\n",
    "        data = {k: [v] for k, v in sorted(data.items(), key=lambda item: item[1], reverse=False)} # sort\n",
    "        sum = np.sum(list(data.values()))\n",
    "        data = {k: [v[0]/sum, None] for k, v in data.items()}\n",
    "        \n",
    "        t = Tree()\n",
    "        t.create(data)\n",
    "        self.encodeDict = t.createCode()\n",
    "        \n",
    "        self.decodeDict = {value:key for (key,value) in self.encodeDict.items()}\n",
    "        \n",
    "    \n",
    "    def encode(self, sentence=\"ala ma kota\"):\n",
    "        self.groundTruth = sentence\n",
    "        self.code = \"\"\n",
    "        for letter in sentence:\n",
    "            self.code += self.encodeDict[letter]\n",
    "        return self.code\n",
    "    \n",
    "    \n",
    "    def decode(self):\n",
    "        self.sentence = \"\"\n",
    "        bites = \"\"\n",
    "        for b in self.code:\n",
    "            bites += b\n",
    "            if bites in self.decodeDict:\n",
    "                dec = self.decodeDict[bites]\n",
    "                bites = \"\"\n",
    "                self.sentence += dec\n",
    "                \n",
    "            #if dec != '000000':\n",
    "                \n",
    "        return self.sentence\n",
    "    \n",
    "    def save(self):\n",
    "        with open(self.code_path, 'w') as f:\n",
    "            json.dump(self.decodeDict, f, indent=4)\n",
    "            \n",
    "        # deal with lack of bits to fulfill a byte \n",
    "        missing = 8 - len(self.code) % 8 \n",
    "        \n",
    "        _,dummy = self.findCorrectDummy(\"\", missing)\n",
    "        self.code += dummy\n",
    "            \n",
    "        with open(self.encoded_path, 'wb') as f:    \n",
    "            x = bitarray(self.code)\n",
    "            x.tofile(f)\n",
    "    \n",
    "    def findCorrectDummy(self, string, depth):\n",
    "        print(string)\n",
    "        if depth == 0:\n",
    "            print(\"DONE\", string)\n",
    "            return True , string\n",
    "        \n",
    "        print(string+\"0check\")\n",
    "        if string+\"0\" not in self.decodeDict:\n",
    "            print(\"ok\")\n",
    "            done, dummy = self.findCorrectDummy(string+\"0\", depth-1)\n",
    "            if done:\n",
    "                print(\"0 done\")\n",
    "                return done, dummy\n",
    "        print(string+\"1check\")\n",
    "        if string+\"1\" not in self.decodeDict:\n",
    "            print(\"ok\")\n",
    "            done, dummy = self.findCorrectDummy(string+\"1\", depth-1)\n",
    "            if done:\n",
    "                print(\"1 done\")\n",
    "                return done, dummy\n",
    "            \n",
    "        print(\"else\")\n",
    "        # else\n",
    "        return (False, \"That is imposible if we start from '0'/'1'\")\n",
    "            \n",
    "        \n",
    "    \n",
    "    def load(self):\n",
    "        self.decodeDict = {}\n",
    "        with open(self.code_path) as f:\n",
    "            self.decodeDict = {**self.decodeDict, **json.load(f)}\n",
    "        \n",
    "        a = bitarray()\n",
    "        with open(self.encoded_path, \"rb\") as f:\n",
    "            a.fromfile(f)\n",
    "            self.code = a.to01()\n",
    "    \n",
    "    def checkCorrectness(self):\n",
    "        if self.groundTruth == self.sentence:\n",
    "            print(\"Correct\")\n",
    "        else:\n",
    "            print(\"Wrong decoded sentence\")"
   ]
  },
  {
   "cell_type": "code",
   "execution_count": 187,
   "metadata": {},
   "outputs": [],
   "source": [
    "hCoding = HuffmannaCoding()"
   ]
  },
  {
   "cell_type": "code",
   "execution_count": 188,
   "metadata": {},
   "outputs": [],
   "source": [
    "hCoding.create_fromFile()"
   ]
  },
  {
   "cell_type": "code",
   "execution_count": 190,
   "metadata": {},
   "outputs": [
    {
     "name": "stdout",
     "output_type": "stream",
     "text": [
      "1101\n",
      "11010check\n",
      "ok\n",
      "11010\n",
      "110100check\n",
      "ok\n",
      "110100\n",
      "1101000check\n",
      "ok\n",
      "1101000\n",
      "11010000check\n",
      "ok\n",
      "11010000\n",
      "110100000check\n",
      "110100001check\n",
      "else\n",
      "11010001check\n",
      "ok\n",
      "11010001\n",
      "110100010check\n",
      "110100011check\n",
      "else\n",
      "else\n",
      "1101001check\n",
      "else\n",
      "110101check\n",
      "else\n",
      "11011check\n",
      "else\n"
     ]
    },
    {
     "data": {
      "text/plain": [
       "(False, \"That is imposible if we start from '0'/'1'\")"
      ]
     },
     "execution_count": 190,
     "metadata": {},
     "output_type": "execute_result"
    }
   ],
   "source": [
    "hCoding.findCorrectDummy(\"1101\", 5) "
   ]
  },
  {
   "cell_type": "code",
   "execution_count": null,
   "metadata": {},
   "outputs": [],
   "source": []
  },
  {
   "cell_type": "code",
   "execution_count": 47,
   "metadata": {},
   "outputs": [
    {
     "data": {
      "text/plain": [
       "{' ': '000',\n",
       " 'u': '001000',\n",
       " '1': '00100100',\n",
       " '7': '0010010100',\n",
       " '6': '0010010101',\n",
       " 'z': '0010010110',\n",
       " 'q': '0010010111',\n",
       " '0': '00100110',\n",
       " 'j': '001001110',\n",
       " '8': '001001111',\n",
       " 'h': '00101',\n",
       " 'a': '0011',\n",
       " 'l': '01000',\n",
       " 'f': '010010',\n",
       " 'p': '010011',\n",
       " 't': '0101',\n",
       " 'g': '011000',\n",
       " 'v': '0110010',\n",
       " '9': '01100110',\n",
       " '2': '01100111',\n",
       " 'd': '01101',\n",
       " 'i': '0111',\n",
       " 'n': '1000',\n",
       " 'o': '1001',\n",
       " 'r': '1010',\n",
       " 'c': '10110',\n",
       " 'b': '101110',\n",
       " 'w': '101111',\n",
       " 's': '1100',\n",
       " '3': '110100000',\n",
       " '5': '110100001',\n",
       " 'x': '110100010',\n",
       " '4': '110100011',\n",
       " 'k': '1101001',\n",
       " 'y': '110101',\n",
       " 'm': '11011',\n",
       " 'e': '111'}"
      ]
     },
     "execution_count": 47,
     "metadata": {},
     "output_type": "execute_result"
    }
   ],
   "source": [
    "hCoding.encodeDict"
   ]
  },
  {
   "cell_type": "code",
   "execution_count": 94,
   "metadata": {},
   "outputs": [
    {
     "data": {
      "text/plain": [
       "34"
      ]
     },
     "execution_count": 94,
     "metadata": {},
     "output_type": "execute_result"
    }
   ],
   "source": [
    "len(hCoding.encode(\"wikasds\"))"
   ]
  },
  {
   "cell_type": "code",
   "execution_count": 95,
   "metadata": {},
   "outputs": [
    {
     "data": {
      "text/plain": [
       "'wikasds'"
      ]
     },
     "execution_count": 95,
     "metadata": {},
     "output_type": "execute_result"
    }
   ],
   "source": [
    "hCoding.decode()"
   ]
  },
  {
   "cell_type": "code",
   "execution_count": 96,
   "metadata": {},
   "outputs": [
    {
     "name": "stdout",
     "output_type": "stream",
     "text": [
      "001001\n"
     ]
    }
   ],
   "source": [
    "hCoding.save()"
   ]
  },
  {
   "cell_type": "code",
   "execution_count": 97,
   "metadata": {},
   "outputs": [],
   "source": [
    "hCoding.load()"
   ]
  },
  {
   "cell_type": "code",
   "execution_count": 98,
   "metadata": {},
   "outputs": [
    {
     "data": {
      "text/plain": [
       "'1011110111110100100111100011011100001001'"
      ]
     },
     "execution_count": 98,
     "metadata": {},
     "output_type": "execute_result"
    }
   ],
   "source": [
    "hCoding.code"
   ]
  },
  {
   "cell_type": "code",
   "execution_count": 99,
   "metadata": {},
   "outputs": [
    {
     "data": {
      "text/plain": [
       "'wikasds'"
      ]
     },
     "execution_count": 99,
     "metadata": {},
     "output_type": "execute_result"
    }
   ],
   "source": [
    "hCoding.decode()"
   ]
  },
  {
   "cell_type": "code",
   "execution_count": null,
   "metadata": {},
   "outputs": [],
   "source": []
  },
  {
   "cell_type": "code",
   "execution_count": null,
   "metadata": {},
   "outputs": [],
   "source": []
  }
 ],
 "metadata": {
  "kernelspec": {
   "display_name": "Python 3",
   "language": "python",
   "name": "python3"
  },
  "language_info": {
   "codemirror_mode": {
    "name": "ipython",
    "version": 3
   },
   "file_extension": ".py",
   "mimetype": "text/x-python",
   "name": "python",
   "nbconvert_exporter": "python",
   "pygments_lexer": "ipython3",
   "version": "3.6.9"
  }
 },
 "nbformat": 4,
 "nbformat_minor": 2
}
