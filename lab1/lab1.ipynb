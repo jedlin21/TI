{
 "cells": [
  {
   "cell_type": "code",
   "execution_count": 40,
   "metadata": {},
   "outputs": [],
   "source": [
    "import numpy as np\n",
    "import matplotlib.pyplot as plt\n"
   ]
  },
  {
   "cell_type": "code",
   "execution_count": null,
   "metadata": {},
   "outputs": [],
   "source": []
  },
  {
   "cell_type": "markdown",
   "metadata": {},
   "source": [
    "# 1"
   ]
  },
  {
   "cell_type": "code",
   "execution_count": 4,
   "metadata": {},
   "outputs": [],
   "source": [
    "letters = [\"a\",\"b\",\"c\",\"d\",\"e\",\"f\",\"g\",\"h\",\"i\",\"j\",\"k\",\"l\",\"m\",\"n\",\"o\",\"p\",\"q\",\"r\",\"s\",\"t\",\"u\",\"v\",\"w\",\"x\",\"y\",\"z\",\" \"]"
   ]
  },
  {
   "cell_type": "code",
   "execution_count": 11,
   "metadata": {},
   "outputs": [
    {
     "data": {
      "text/plain": [
       "'oqtknvlacqadu  jysgdcnepmcunssi sopyvvezhfuimcruxjfqrpuglzaemyvrezeufxhueryqobrhytgmiabnywrddjuqarbg   mjvicasb soulp flqrqntsdyrfuxggmftgixmziogj zscmavisuqxnxyodkoqiruzwyykwgrytyfpgjetucyuios foupfnzcoos vcgfpkqerbqsdneh xpjknkmcexgpwyljslyxmoysvtaqmzc pptwbcymxwmpenirfiwkfuvgxt lpaei rtwcugunbags'"
      ]
     },
     "execution_count": 11,
     "metadata": {},
     "output_type": "execute_result"
    }
   ],
   "source": [
    "\"\".join(np.random.choice(letters, 300))"
   ]
  },
  {
   "cell_type": "code",
   "execution_count": 34,
   "metadata": {},
   "outputs": [],
   "source": [
    "sentence = \"\".join(np.random.choice(letters, 10000000))"
   ]
  },
  {
   "cell_type": "code",
   "execution_count": 35,
   "metadata": {},
   "outputs": [
    {
     "name": "stdout",
     "output_type": "stream",
     "text": [
      "27.05210273351143\n"
     ]
    }
   ],
   "source": [
    "notSpaces = list(filter( lambda x: len(x)>0, sentence.split(\" \")))\n",
    "counter = 0\n",
    "for word in notSpaces:\n",
    "    counter+= len(word)\n",
    "mean = counter/len(notSpaces)\n",
    "print(mean)"
   ]
  },
  {
   "cell_type": "markdown",
   "metadata": {},
   "source": [
    "# 2"
   ]
  },
  {
   "cell_type": "code",
   "execution_count": 82,
   "metadata": {},
   "outputs": [],
   "source": [
    "with open(\"norm_hamlet.txt\", \"r\") as f:\n",
    "    text = f.read()\n",
    "\n",
    "data = {}\n",
    "for letter in text:\n",
    "    try:\n",
    "        data[letter] +=1\n",
    "    except:\n",
    "        data[letter] = 1\n",
    "#data.pop(\" \", None)\n"
   ]
  },
  {
   "cell_type": "code",
   "execution_count": 83,
   "metadata": {},
   "outputs": [
    {
     "data": {
      "text/plain": [
       "{' ': 31819,\n",
       " 'e': 14797,\n",
       " 't': 11847,\n",
       " 'o': 10846,\n",
       " 'a': 9521,\n",
       " 'i': 8396,\n",
       " 's': 8338,\n",
       " 'h': 8164,\n",
       " 'n': 8156,\n",
       " 'r': 7495,\n",
       " 'l': 5625,\n",
       " 'd': 5060,\n",
       " 'u': 4231,\n",
       " 'm': 3880,\n",
       " 'y': 3189,\n",
       " 'w': 3083,\n",
       " 'f': 2722,\n",
       " 'c': 2624,\n",
       " 'g': 2268,\n",
       " 'p': 1853,\n",
       " 'b': 1795,\n",
       " 'v': 1219,\n",
       " 'k': 1165,\n",
       " 'x': 174,\n",
       " 'q': 145,\n",
       " 'j': 111,\n",
       " 'z': 80}"
      ]
     },
     "execution_count": 83,
     "metadata": {},
     "output_type": "execute_result"
    }
   ],
   "source": [
    "data = {k: v for k, v in sorted(data.items(), key=lambda item: item[1], reverse=True)} # sort\n",
    "data"
   ]
  },
  {
   "cell_type": "code",
   "execution_count": 84,
   "metadata": {},
   "outputs": [],
   "source": [
    "sum = np.sum(list(data.values()))\n",
    "data = {k: v/sum for k, v in data.items()}"
   ]
  },
  {
   "cell_type": "code",
   "execution_count": 85,
   "metadata": {},
   "outputs": [
    {
     "data": {
      "text/plain": [
       "[]"
      ]
     },
     "execution_count": 85,
     "metadata": {},
     "output_type": "execute_result"
    },
    {
     "data": {
      "image/png": "[encoded data removed]",
      "text/plain": [
       "<Figure size 432x288 with 1 Axes>"
      ]
     },
     "metadata": {
      "needs_background": "light"
     },
     "output_type": "display_data"
    }
   ],
   "source": [
    "plt.bar(data.keys(), data.values())\n",
    "plt.plot()"
   ]
  },
  {
   "cell_type": "code",
   "execution_count": null,
   "metadata": {},
   "outputs": [],
   "source": []
  },
  {
   "cell_type": "code",
   "execution_count": null,
   "metadata": {},
   "outputs": [],
   "source": []
  },
  {
   "cell_type": "markdown",
   "metadata": {},
   "source": [
    "# 3"
   ]
  },
  {
   "cell_type": "code",
   "execution_count": 86,
   "metadata": {},
   "outputs": [
    {
     "data": {
      "text/plain": [
       "'a  encitsyotne crsh ladtnd itoua syyibhntt noost hantpe eyaaemh o e i hsocadbonsi  fkhrenshn slwaurtof aaiae rvioers ahugamimuiwnrwrztnidt ri vakdoedt o rle motooio tietgrcelitsuoteh aigt u  m hltn mnog ndorbyfo sapot sfaseaseuyrasrnmr wsttyfeo lonlrs   l nrotetgnhoyahgttsos eeo eit s iotnts oas tat'"
      ]
     },
     "execution_count": 86,
     "metadata": {},
     "output_type": "execute_result"
    }
   ],
   "source": [
    "\"\".join(np.random.choice(list(data.keys()), 300, p=list(data.values())))"
   ]
  },
  {
   "cell_type": "code",
   "execution_count": 91,
   "metadata": {},
   "outputs": [],
   "source": [
    "sentence = \"\".join(np.random.choice(list(data.keys()), 10000000, p=list(data.values())))"
   ]
  },
  {
   "cell_type": "code",
   "execution_count": 92,
   "metadata": {},
   "outputs": [
    {
     "name": "stdout",
     "output_type": "stream",
     "text": [
      "4.9765642029113675\n"
     ]
    }
   ],
   "source": [
    "notSpaces = list(filter( lambda x: len(x)>0, sentence.split(\" \")))\n",
    "counter = 0\n",
    "for word in notSpaces:\n",
    "    counter+= len(word)\n",
    "mean = counter/len(notSpaces)\n",
    "print(mean)"
   ]
  },
  {
   "cell_type": "markdown",
   "metadata": {},
   "source": [
    "# 4"
   ]
  },
  {
   "cell_type": "code",
   "execution_count": 95,
   "metadata": {},
   "outputs": [],
   "source": [
    "with open(\"norm_wiki_sample.txt\", \"r\") as f:\n",
    "    text = f.read()"
   ]
  },
  {
   "cell_type": "code",
   "execution_count": 120,
   "metadata": {},
   "outputs": [],
   "source": [
    "data = {}\n",
    "for index in range(len(text) - 2):\n",
    "    sequence = text[index:index+2]\n",
    "    if(sequence[0] not in [\"e\",\"t\"]):\n",
    "        continue\n",
    "    try:\n",
    "        data[sequence] +=1\n",
    "    except:\n",
    "        data[sequence] = 1\n",
    "\n",
    "sum = np.sum(list(data.values()))\n",
    "data = {k: v/sum for k, v in data.items()}\n",
    "data = {k: v for k, v in sorted(data.items(), key=lambda item: item[1], reverse=True)} # sort"
   ]
  },
  {
   "cell_type": "code",
   "execution_count": 121,
   "metadata": {},
   "outputs": [
    {
     "data": {
      "text/plain": [
       "[]"
      ]
     },
     "execution_count": 121,
     "metadata": {},
     "output_type": "execute_result"
    },
    {
     "data": {
      "image/png": "[encoded data removed]",
      "text/plain": [
       "<Figure size 432x288 with 1 Axes>"
      ]
     },
     "metadata": {
      "needs_background": "light"
     },
     "output_type": "display_data"
    }
   ],
   "source": [
    "plt.bar(list(data.keys())[:20], list(data.values())[:20])\n",
    "plt.plot()"
   ]
  },
  {
   "cell_type": "markdown",
   "metadata": {},
   "source": [
    "# 5"
   ]
  },
  {
   "cell_type": "code",
   "execution_count": 188,
   "metadata": {},
   "outputs": [],
   "source": [
    "def Markov(source, row):\n",
    "    data = {}\n",
    "    for index in range(len(text) - row-1):\n",
    "        sequence = text[index:index+row]\n",
    "        letter = text[index+row+1]\n",
    "        try:\n",
    "            data[sequence][letter] +=1\n",
    "        except:\n",
    "            try:\n",
    "                data[sequence][letter] = 1\n",
    "            except:\n",
    "                data[sequence] = {letter : 1 } \n",
    "    \n",
    "    for key in data.keys():\n",
    "        sum = np.sum(list(data[key].values()))\n",
    "        data[key] = {k: v/sum for k, v in data[key].items()}\n",
    "    return data"
   ]
  },
  {
   "cell_type": "code",
   "execution_count": 144,
   "metadata": {},
   "outputs": [],
   "source": [
    "data = Markov(text, 2)"
   ]
  },
  {
   "cell_type": "code",
   "execution_count": 152,
   "metadata": {},
   "outputs": [],
   "source": [
    "def generate(seed, data):\n",
    "    return np.random.choice(list(data[seed].keys()), p=list(data[seed].values()))"
   ]
  },
  {
   "cell_type": "markdown",
   "metadata": {},
   "source": [
    "Wygeneruj przybli»enie j¦zyka angielskiego na podstawie ¹ródªa Markova\n",
    "pierwszego rz¦du (¹ródªa, gdzie prawdopodobie«stwo nast¦pnego symbolu\n",
    "zale»y od 1. poprzedniego)."
   ]
  },
  {
   "cell_type": "code",
   "execution_count": 189,
   "metadata": {},
   "outputs": [],
   "source": [
    "data1 = Markov(text, 1)"
   ]
  },
  {
   "cell_type": "code",
   "execution_count": 190,
   "metadata": {},
   "outputs": [],
   "source": [
    "seed = np.random.choice(letters)"
   ]
  },
  {
   "cell_type": "code",
   "execution_count": 192,
   "metadata": {},
   "outputs": [
    {
     "name": "stdout",
     "output_type": "stream",
     "text": [
      "taaedytetoho foaadaym nralrpn htenttecnt eu hsmfrl s a hvrypeiig ortrae r ojcgimbyserlenwihse u lstblcoge oadote n nlyeiopwsae itett rnon aie ho anataptisih ehsu aiilin an u ndar o e oh h cognot fetvls\n"
     ]
    }
   ],
   "source": [
    "seq = seed\n",
    "for _ in range(200):\n",
    "    seq += generate(seq[-1], data1)\n",
    "print(seq)"
   ]
  },
  {
   "cell_type": "markdown",
   "metadata": {},
   "source": [
    "Nast¦pnie zrób to samo dla ¹ródªa Markova trzeciego rz¦du (¹ródªa, gdzie\n",
    "prawdopodobie«stwo nast¦pnego symbolu zale»y od 3. poprzednich). (3pt)"
   ]
  },
  {
   "cell_type": "code",
   "execution_count": 193,
   "metadata": {},
   "outputs": [],
   "source": [
    "data2 = Markov(text, 2)"
   ]
  },
  {
   "cell_type": "code",
   "execution_count": 194,
   "metadata": {},
   "outputs": [],
   "source": [
    "data3 = Markov(text, 3)"
   ]
  },
  {
   "cell_type": "code",
   "execution_count": 206,
   "metadata": {},
   "outputs": [],
   "source": [
    "seed = np.random.choice(letters)"
   ]
  },
  {
   "cell_type": "code",
   "execution_count": 306,
   "metadata": {},
   "outputs": [
    {
     "name": "stdout",
     "output_type": "stream",
     "text": [
      "bieisueie  o int hloislnkgoigaieihic ut rg u  aralins hr rlnteefomrdacnea nrvra uig aotntmn ote huiu i usnscocsa urnhle ataoprc rc aso iw ineih i rc 93imrly1s eiabot a emaeshu ee eih u  nr o hdcidngieisb\n"
     ]
    }
   ],
   "source": [
    "seq = seed\n",
    "seq += generate(seq[-1], data1)\n",
    "seq += generate(seq[-2:], data2)\n",
    "for _ in range(200):\n",
    "    try:\n",
    "        seq += generate(seq[-3:], data3)\n",
    "    except KeyError:\n",
    "        try:\n",
    "            seq += generate(seq[-2:], data2)\n",
    "        except KeyError:\n",
    "            seq += generate(seq[-1], data1)\n",
    "print(seq)"
   ]
  },
  {
   "cell_type": "markdown",
   "metadata": {},
   "source": [
    "Na koniec wygeneruj przybli»enie ¹ródªa Markova pi¡tego rzedu. Zaczynij\n",
    "od ci¡gu znaków zawieraj¡cego ju» sªowo \u0010probability\u0011. (4pt)"
   ]
  },
  {
   "cell_type": "code",
   "execution_count": 220,
   "metadata": {},
   "outputs": [],
   "source": [
    "data5 = Markov(text, 5)"
   ]
  },
  {
   "cell_type": "code",
   "execution_count": 307,
   "metadata": {},
   "outputs": [],
   "source": [
    "data4 = Markov(text, 4)"
   ]
  },
  {
   "cell_type": "code",
   "execution_count": 314,
   "metadata": {},
   "outputs": [
    {
     "name": "stdout",
     "output_type": "stream",
     "text": [
      "probabilityml aapusnrio rdolao10m ln osoo hr5f yse atv1p 050f egp  hr gvrsonteaeo i a a  eahies1uhdyoa cm2smlad nbt ol araj aytnse fomr ote oedmnetol  eesal tubn ls  ed 9 eal nmtctvdcsa lai ecnl tehal fssnstuk r\n"
     ]
    }
   ],
   "source": [
    "seq = 'probability'\n",
    "for _ in range(200):\n",
    "    try:\n",
    "        seq += generate(seq[-5:], data5)\n",
    "    except KeyError:\n",
    "        try:\n",
    "            seq += generate(seq[-4:], data4)\n",
    "        except KeyError:\n",
    "            try:\n",
    "                seq += generate(seq[-3:], data3)\n",
    "            except KeyError:\n",
    "                try:\n",
    "                    seq += generate(seq[-2:], data2)\n",
    "                except KeyError:\n",
    "                    seq += generate(seq[-1], data1)\n",
    "print(seq)"
   ]
  },
  {
   "cell_type": "code",
   "execution_count": null,
   "metadata": {},
   "outputs": [],
   "source": [
    "data5"
   ]
  },
  {
   "cell_type": "code",
   "execution_count": null,
   "metadata": {},
   "outputs": [],
   "source": []
  }
 ],
 "metadata": {
  "kernelspec": {
   "display_name": "Python 3",
   "language": "python",
   "name": "python3"
  },
  "language_info": {
   "codemirror_mode": {
    "name": "ipython",
    "version": 3
   },
   "file_extension": ".py",
   "mimetype": "text/x-python",
   "name": "python",
   "nbconvert_exporter": "python",
   "pygments_lexer": "ipython3",
   "version": "3.6.9"
  }
 },
 "nbformat": 4,
 "nbformat_minor": 2
}
